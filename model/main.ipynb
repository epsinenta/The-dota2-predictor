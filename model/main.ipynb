{
  "metadata": {
    "kernelspec": {
      "language": "python",
      "display_name": "Python 3",
      "name": "python3"
    },
    "language_info": {
      "name": "python",
      "version": "3.10.13",
      "mimetype": "text/x-python",
      "codemirror_mode": {
        "name": "ipython",
        "version": 3
      },
      "pygments_lexer": "ipython3",
      "nbconvert_exporter": "python",
      "file_extension": ".py"
    },
    "kaggle": {
      "accelerator": "none",
      "dataSources": [
        {
          "sourceId": 7974583,
          "sourceType": "datasetVersion",
          "datasetId": 4692887
        }
      ],
      "dockerImageVersionId": 30673,
      "isInternetEnabled": true,
      "language": "python",
      "sourceType": "notebook",
      "isGpuEnabled": false
    },
    "colab": {
      "name": "dota2predict2",
      "provenance": []
    }
  },
  "nbformat_minor": 0,
  "nbformat": 4,
  "cells": [
    {
      "source": [
        "\n",
        "# IMPORTANT: RUN THIS CELL IN ORDER TO IMPORT YOUR KAGGLE DATA SOURCES\n",
        "# TO THE CORRECT LOCATION (/kaggle/input) IN YOUR NOTEBOOK,\n",
        "# THEN FEEL FREE TO DELETE THIS CELL.\n",
        "# NOTE: THIS NOTEBOOK ENVIRONMENT DIFFERS FROM KAGGLE'S PYTHON\n",
        "# ENVIRONMENT SO THERE MAY BE MISSING LIBRARIES USED BY YOUR\n",
        "# NOTEBOOK.\n",
        "\n",
        "import os\n",
        "import sys\n",
        "from tempfile import NamedTemporaryFile\n",
        "from urllib.request import urlopen\n",
        "from urllib.parse import unquote, urlparse\n",
        "from urllib.error import HTTPError\n",
        "from zipfile import ZipFile\n",
        "import tarfile\n",
        "import shutil\n",
        "\n",
        "CHUNK_SIZE = 40960\n",
        "DATA_SOURCE_MAPPING = 'dota2-first:https%3A%2F%2Fstorage.googleapis.com%2Fkaggle-data-sets%2F4692887%2F7974583%2Fbundle%2Farchive.zip%3FX-Goog-Algorithm%3DGOOG4-RSA-SHA256%26X-Goog-Credential%3Dgcp-kaggle-com%2540kaggle-161607.iam.gserviceaccount.com%252F20240329%252Fauto%252Fstorage%252Fgoog4_request%26X-Goog-Date%3D20240329T145900Z%26X-Goog-Expires%3D259200%26X-Goog-SignedHeaders%3Dhost%26X-Goog-Signature%3D2b88bde848da9601749bbbe8864ba55938100a0382a65166d8dae20720c0c2a48e656d2acfd0f21a25e4fa1ebb63f7ff13f45b1c84639ef703a974df3ae3034937e92266b83f09aeacae0681eed34e42490b1ef4a465b4e622b7ab6ab07337fe0efe2a5c4ef0ea9475c9e777a8ba5cf74d833679b04bb9bec6d412d7234d15db6413fa026d5fadb5e50e58a34502981c1cfb93b204ead0608212c895feef1bcaff8122dba91ba7e77a1ef1adc88bf6fe62e13f479e96e63cf222828b3112c9729a3a150dc301a4d6d0cb7b314cf3bec91d1da5403e69604c96a3567d7e7c36fe9ff1bcdb68cec000bada398527995b52260e6e669a5c99ae94ad425f312fbbe3'\n",
        "\n",
        "KAGGLE_INPUT_PATH='/kaggle/input'\n",
        "KAGGLE_WORKING_PATH='/kaggle/working'\n",
        "KAGGLE_SYMLINK='kaggle'\n",
        "\n",
        "!umount /kaggle/input/ 2> /dev/null\n",
        "shutil.rmtree('/kaggle/input', ignore_errors=True)\n",
        "os.makedirs(KAGGLE_INPUT_PATH, 0o777, exist_ok=True)\n",
        "os.makedirs(KAGGLE_WORKING_PATH, 0o777, exist_ok=True)\n",
        "\n",
        "try:\n",
        "  os.symlink(KAGGLE_INPUT_PATH, os.path.join(\"..\", 'input'), target_is_directory=True)\n",
        "except FileExistsError:\n",
        "  pass\n",
        "try:\n",
        "  os.symlink(KAGGLE_WORKING_PATH, os.path.join(\"..\", 'working'), target_is_directory=True)\n",
        "except FileExistsError:\n",
        "  pass\n",
        "\n",
        "for data_source_mapping in DATA_SOURCE_MAPPING.split(','):\n",
        "    directory, download_url_encoded = data_source_mapping.split(':')\n",
        "    download_url = unquote(download_url_encoded)\n",
        "    filename = urlparse(download_url).path\n",
        "    destination_path = os.path.join(KAGGLE_INPUT_PATH, directory)\n",
        "    try:\n",
        "        with urlopen(download_url) as fileres, NamedTemporaryFile() as tfile:\n",
        "            total_length = fileres.headers['content-length']\n",
        "            print(f'Downloading {directory}, {total_length} bytes compressed')\n",
        "            dl = 0\n",
        "            data = fileres.read(CHUNK_SIZE)\n",
        "            while len(data) > 0:\n",
        "                dl += len(data)\n",
        "                tfile.write(data)\n",
        "                done = int(50 * dl / int(total_length))\n",
        "                sys.stdout.write(f\"\\r[{'=' * done}{' ' * (50-done)}] {dl} bytes downloaded\")\n",
        "                sys.stdout.flush()\n",
        "                data = fileres.read(CHUNK_SIZE)\n",
        "            if filename.endswith('.zip'):\n",
        "              with ZipFile(tfile) as zfile:\n",
        "                zfile.extractall(destination_path)\n",
        "            else:\n",
        "              with tarfile.open(tfile.name) as tarfile:\n",
        "                tarfile.extractall(destination_path)\n",
        "            print(f'\\nDownloaded and uncompressed: {directory}')\n",
        "    except HTTPError as e:\n",
        "        print(f'Failed to load (likely expired) {download_url} to path {destination_path}')\n",
        "        continue\n",
        "    except OSError as e:\n",
        "        print(f'Failed to load {download_url} to path {destination_path}')\n",
        "        continue\n",
        "\n",
        "print('Data source import complete.')\n"
      ],
      "metadata": {
        "id": "aMGdI2LguKc8"
      },
      "cell_type": "code",
      "outputs": [],
      "execution_count": null
    },
    {
      "cell_type": "code",
      "source": [
        "!pip install -U lightautoml"
      ],
      "metadata": {
        "execution": {
          "iopub.status.busy": "2024-03-29T13:20:42.453093Z",
          "iopub.execute_input": "2024-03-29T13:20:42.453434Z",
          "iopub.status.idle": "2024-03-29T13:23:49.172289Z",
          "shell.execute_reply.started": "2024-03-29T13:20:42.453406Z",
          "shell.execute_reply": "2024-03-29T13:23:49.171054Z"
        },
        "trusted": true,
        "id": "tGVl0DLZuKc9",
        "outputId": "1010fe9a-f240-476a-e880-85b15f69ec2a"
      },
      "execution_count": null,
      "outputs": [
        {
          "name": "stdout",
          "text": "Collecting lightautoml\n  Downloading lightautoml-0.3.8.1-py3-none-any.whl.metadata (16 kB)\nCollecting autowoe>=1.2 (from lightautoml)\n  Downloading AutoWoE-1.3.2-py3-none-any.whl.metadata (2.8 kB)\nRequirement already satisfied: catboost>=0.26.1 in /opt/conda/lib/python3.10/site-packages (from lightautoml) (1.2.3)\nCollecting cmaes (from lightautoml)\n  Downloading cmaes-0.10.0-py3-none-any.whl.metadata (19 kB)\nRequirement already satisfied: holidays in /opt/conda/lib/python3.10/site-packages (from lightautoml) (0.24)\nRequirement already satisfied: jinja2 in /opt/conda/lib/python3.10/site-packages (from lightautoml) (3.1.2)\nCollecting joblib<1.3.0 (from lightautoml)\n  Downloading joblib-1.2.0-py3-none-any.whl.metadata (5.3 kB)\nCollecting json2html (from lightautoml)\n  Downloading json2html-1.3.0.tar.gz (7.0 kB)\n  Preparing metadata (setup.py) ... \u001b[?25ldone\n\u001b[?25hCollecting lightgbm<=3.2.1,>=2.3 (from lightautoml)\n  Downloading lightgbm-3.2.1-py3-none-manylinux1_x86_64.whl.metadata (14 kB)\nRequirement already satisfied: networkx in /opt/conda/lib/python3.10/site-packages (from lightautoml) (3.2.1)\nRequirement already satisfied: numpy>=1.22 in /opt/conda/lib/python3.10/site-packages (from lightautoml) (1.26.4)\nRequirement already satisfied: optuna in /opt/conda/lib/python3.10/site-packages (from lightautoml) (3.6.0)\nCollecting pandas<2.0.0 (from lightautoml)\n  Downloading pandas-1.5.3-cp310-cp310-manylinux_2_17_x86_64.manylinux2014_x86_64.whl.metadata (11 kB)\nCollecting poetry-core<2.0.0,>=1.0.0 (from lightautoml)\n  Downloading poetry_core-1.9.0-py3-none-any.whl.metadata (3.5 kB)\nRequirement already satisfied: pyyaml in /opt/conda/lib/python3.10/site-packages (from lightautoml) (6.0.1)\nRequirement already satisfied: scikit-learn>=0.22 in /opt/conda/lib/python3.10/site-packages (from lightautoml) (1.2.2)\nRequirement already satisfied: seaborn in /opt/conda/lib/python3.10/site-packages (from lightautoml) (0.12.2)\nCollecting statsmodels<=0.14.0 (from lightautoml)\n  Downloading statsmodels-0.14.0-cp310-cp310-manylinux_2_17_x86_64.manylinux2014_x86_64.whl.metadata (9.0 kB)\nCollecting torch<=2.0.0,>=1.9.0 (from lightautoml)\n  Downloading torch-2.0.0-cp310-cp310-manylinux1_x86_64.whl.metadata (24 kB)\nRequirement already satisfied: tqdm in /opt/conda/lib/python3.10/site-packages (from lightautoml) (4.66.1)\nCollecting StrEnum<0.5.0,>=0.4.7 (from autowoe>=1.2->lightautoml)\n  Downloading StrEnum-0.4.15-py3-none-any.whl.metadata (5.3 kB)\nRequirement already satisfied: matplotlib in /opt/conda/lib/python3.10/site-packages (from autowoe>=1.2->lightautoml) (3.7.5)\nRequirement already satisfied: pytest in /opt/conda/lib/python3.10/site-packages (from autowoe>=1.2->lightautoml) (8.1.1)\nRequirement already satisfied: pytz in /opt/conda/lib/python3.10/site-packages (from autowoe>=1.2->lightautoml) (2023.3.post1)\nRequirement already satisfied: scipy in /opt/conda/lib/python3.10/site-packages (from autowoe>=1.2->lightautoml) (1.11.4)\nCollecting sphinx (from autowoe>=1.2->lightautoml)\n  Downloading sphinx-7.2.6-py3-none-any.whl.metadata (5.9 kB)\nRequirement already satisfied: sphinx-rtd-theme in /opt/conda/lib/python3.10/site-packages (from autowoe>=1.2->lightautoml) (0.2.4)\nRequirement already satisfied: graphviz in /opt/conda/lib/python3.10/site-packages (from catboost>=0.26.1->lightautoml) (0.20.2)\nRequirement already satisfied: plotly in /opt/conda/lib/python3.10/site-packages (from catboost>=0.26.1->lightautoml) (5.18.0)\nRequirement already satisfied: six in /opt/conda/lib/python3.10/site-packages (from catboost>=0.26.1->lightautoml) (1.16.0)\nRequirement already satisfied: wheel in /opt/conda/lib/python3.10/site-packages (from lightgbm<=3.2.1,>=2.3->lightautoml) (0.42.0)\nRequirement already satisfied: python-dateutil>=2.8.1 in /opt/conda/lib/python3.10/site-packages (from pandas<2.0.0->lightautoml) (2.9.0.post0)\nRequirement already satisfied: threadpoolctl>=2.0.0 in /opt/conda/lib/python3.10/site-packages (from scikit-learn>=0.22->lightautoml) (3.2.0)\nRequirement already satisfied: patsy>=0.5.2 in /opt/conda/lib/python3.10/site-packages (from statsmodels<=0.14.0->lightautoml) (0.5.6)\nRequirement already satisfied: packaging>=21.3 in /opt/conda/lib/python3.10/site-packages (from statsmodels<=0.14.0->lightautoml) (21.3)\nRequirement already satisfied: filelock in /opt/conda/lib/python3.10/site-packages (from torch<=2.0.0,>=1.9.0->lightautoml) (3.13.1)\nRequirement already satisfied: typing-extensions in /opt/conda/lib/python3.10/site-packages (from torch<=2.0.0,>=1.9.0->lightautoml) (4.9.0)\nRequirement already satisfied: sympy in /opt/conda/lib/python3.10/site-packages (from torch<=2.0.0,>=1.9.0->lightautoml) (1.12)\nCollecting nvidia-cuda-nvrtc-cu11==11.7.99 (from torch<=2.0.0,>=1.9.0->lightautoml)\n  Downloading nvidia_cuda_nvrtc_cu11-11.7.99-2-py3-none-manylinux1_x86_64.whl.metadata (1.5 kB)\nCollecting nvidia-cuda-runtime-cu11==11.7.99 (from torch<=2.0.0,>=1.9.0->lightautoml)\n  Downloading nvidia_cuda_runtime_cu11-11.7.99-py3-none-manylinux1_x86_64.whl.metadata (1.6 kB)\nCollecting nvidia-cuda-cupti-cu11==11.7.101 (from torch<=2.0.0,>=1.9.0->lightautoml)\n  Downloading nvidia_cuda_cupti_cu11-11.7.101-py3-none-manylinux1_x86_64.whl.metadata (1.6 kB)\nCollecting nvidia-cudnn-cu11==8.5.0.96 (from torch<=2.0.0,>=1.9.0->lightautoml)\n  Downloading nvidia_cudnn_cu11-8.5.0.96-2-py3-none-manylinux1_x86_64.whl.metadata (1.6 kB)\nCollecting nvidia-cublas-cu11==11.10.3.66 (from torch<=2.0.0,>=1.9.0->lightautoml)\n  Downloading nvidia_cublas_cu11-11.10.3.66-py3-none-manylinux1_x86_64.whl.metadata (1.6 kB)\nCollecting nvidia-cufft-cu11==10.9.0.58 (from torch<=2.0.0,>=1.9.0->lightautoml)\n  Downloading nvidia_cufft_cu11-10.9.0.58-py3-none-manylinux1_x86_64.whl.metadata (1.5 kB)\nCollecting nvidia-curand-cu11==10.2.10.91 (from torch<=2.0.0,>=1.9.0->lightautoml)\n  Downloading nvidia_curand_cu11-10.2.10.91-py3-none-manylinux1_x86_64.whl.metadata (1.6 kB)\nCollecting nvidia-cusolver-cu11==11.4.0.1 (from torch<=2.0.0,>=1.9.0->lightautoml)\n  Downloading nvidia_cusolver_cu11-11.4.0.1-2-py3-none-manylinux1_x86_64.whl.metadata (1.6 kB)\nCollecting nvidia-cusparse-cu11==11.7.4.91 (from torch<=2.0.0,>=1.9.0->lightautoml)\n  Downloading nvidia_cusparse_cu11-11.7.4.91-py3-none-manylinux1_x86_64.whl.metadata (1.6 kB)\nCollecting nvidia-nccl-cu11==2.14.3 (from torch<=2.0.0,>=1.9.0->lightautoml)\n  Downloading nvidia_nccl_cu11-2.14.3-py3-none-manylinux1_x86_64.whl.metadata (1.8 kB)\nCollecting nvidia-nvtx-cu11==11.7.91 (from torch<=2.0.0,>=1.9.0->lightautoml)\n  Downloading nvidia_nvtx_cu11-11.7.91-py3-none-manylinux1_x86_64.whl.metadata (1.7 kB)\nCollecting triton==2.0.0 (from torch<=2.0.0,>=1.9.0->lightautoml)\n  Downloading triton-2.0.0-1-cp310-cp310-manylinux2014_x86_64.manylinux_2_17_x86_64.whl.metadata (1.0 kB)\nRequirement already satisfied: setuptools in /opt/conda/lib/python3.10/site-packages (from nvidia-cublas-cu11==11.10.3.66->torch<=2.0.0,>=1.9.0->lightautoml) (69.0.3)\nCollecting cmake (from triton==2.0.0->torch<=2.0.0,>=1.9.0->lightautoml)\n  Downloading cmake-3.29.0.1-py3-none-manylinux_2_17_x86_64.manylinux2014_x86_64.whl.metadata (6.1 kB)\nCollecting lit (from triton==2.0.0->torch<=2.0.0,>=1.9.0->lightautoml)\n  Downloading lit-18.1.2.tar.gz (161 kB)\n\u001b[2K     \u001b[90m━━━━━━━━━━━━━━━━━━━━━━━━━━━━━━━━━━━━━━━\u001b[0m \u001b[32m161.0/161.0 kB\u001b[0m \u001b[31m5.1 MB/s\u001b[0m eta \u001b[36m0:00:00\u001b[0m\n\u001b[?25h  Installing build dependencies ... \u001b[?25ldone\n\u001b[?25h  Getting requirements to build wheel ... \u001b[?25ldone\n\u001b[?25h  Installing backend dependencies ... \u001b[?25ldone\n\u001b[?25h  Preparing metadata (pyproject.toml) ... \u001b[?25ldone\n\u001b[?25hRequirement already satisfied: hijri-converter in /opt/conda/lib/python3.10/site-packages (from holidays->lightautoml) (2.3.1)\nRequirement already satisfied: korean-lunar-calendar in /opt/conda/lib/python3.10/site-packages (from holidays->lightautoml) (0.3.1)\nRequirement already satisfied: MarkupSafe>=2.0 in /opt/conda/lib/python3.10/site-packages (from jinja2->lightautoml) (2.1.3)\nRequirement already satisfied: alembic>=1.5.0 in /opt/conda/lib/python3.10/site-packages (from optuna->lightautoml) (1.13.1)\nRequirement already satisfied: colorlog in /opt/conda/lib/python3.10/site-packages (from optuna->lightautoml) (6.8.2)\nRequirement already satisfied: sqlalchemy>=1.3.0 in /opt/conda/lib/python3.10/site-packages (from optuna->lightautoml) (2.0.25)\nRequirement already satisfied: Mako in /opt/conda/lib/python3.10/site-packages (from alembic>=1.5.0->optuna->lightautoml) (1.3.2)\nRequirement already satisfied: contourpy>=1.0.1 in /opt/conda/lib/python3.10/site-packages (from matplotlib->autowoe>=1.2->lightautoml) (1.2.0)\nRequirement already satisfied: cycler>=0.10 in /opt/conda/lib/python3.10/site-packages (from matplotlib->autowoe>=1.2->lightautoml) (0.12.1)\nRequirement already satisfied: fonttools>=4.22.0 in /opt/conda/lib/python3.10/site-packages (from matplotlib->autowoe>=1.2->lightautoml) (4.47.0)\nRequirement already satisfied: kiwisolver>=1.0.1 in /opt/conda/lib/python3.10/site-packages (from matplotlib->autowoe>=1.2->lightautoml) (1.4.5)\nRequirement already satisfied: pillow>=6.2.0 in /opt/conda/lib/python3.10/site-packages (from matplotlib->autowoe>=1.2->lightautoml) (9.5.0)\nRequirement already satisfied: pyparsing>=2.3.1 in /opt/conda/lib/python3.10/site-packages (from matplotlib->autowoe>=1.2->lightautoml) (3.1.1)\nRequirement already satisfied: greenlet!=0.4.17 in /opt/conda/lib/python3.10/site-packages (from sqlalchemy>=1.3.0->optuna->lightautoml) (3.0.3)\nRequirement already satisfied: tenacity>=6.2.0 in /opt/conda/lib/python3.10/site-packages (from plotly->catboost>=0.26.1->lightautoml) (8.2.3)\nRequirement already satisfied: iniconfig in /opt/conda/lib/python3.10/site-packages (from pytest->autowoe>=1.2->lightautoml) (2.0.0)\nRequirement already satisfied: pluggy<2.0,>=1.4 in /opt/conda/lib/python3.10/site-packages (from pytest->autowoe>=1.2->lightautoml) (1.4.0)\nRequirement already satisfied: exceptiongroup>=1.0.0rc8 in /opt/conda/lib/python3.10/site-packages (from pytest->autowoe>=1.2->lightautoml) (1.2.0)\nRequirement already satisfied: tomli>=1 in /opt/conda/lib/python3.10/site-packages (from pytest->autowoe>=1.2->lightautoml) (2.0.1)\nCollecting sphinxcontrib-applehelp (from sphinx->autowoe>=1.2->lightautoml)\n  Downloading sphinxcontrib_applehelp-1.0.8-py3-none-any.whl.metadata (2.3 kB)\nCollecting sphinxcontrib-devhelp (from sphinx->autowoe>=1.2->lightautoml)\n  Downloading sphinxcontrib_devhelp-1.0.6-py3-none-any.whl.metadata (2.3 kB)\nCollecting sphinxcontrib-jsmath (from sphinx->autowoe>=1.2->lightautoml)\n  Downloading sphinxcontrib_jsmath-1.0.1-py2.py3-none-any.whl.metadata (1.4 kB)\nCollecting sphinxcontrib-htmlhelp>=2.0.0 (from sphinx->autowoe>=1.2->lightautoml)\n  Downloading sphinxcontrib_htmlhelp-2.0.5-py3-none-any.whl.metadata (2.3 kB)\nCollecting sphinxcontrib-serializinghtml>=1.1.9 (from sphinx->autowoe>=1.2->lightautoml)\n  Downloading sphinxcontrib_serializinghtml-1.1.10-py3-none-any.whl.metadata (2.4 kB)\nCollecting sphinxcontrib-qthelp (from sphinx->autowoe>=1.2->lightautoml)\n  Downloading sphinxcontrib_qthelp-1.0.7-py3-none-any.whl.metadata (2.2 kB)\nRequirement already satisfied: Pygments>=2.14 in /opt/conda/lib/python3.10/site-packages (from sphinx->autowoe>=1.2->lightautoml) (2.17.2)\nRequirement already satisfied: docutils<0.21,>=0.18.1 in /opt/conda/lib/python3.10/site-packages (from sphinx->autowoe>=1.2->lightautoml) (0.20.1)\nRequirement already satisfied: snowballstemmer>=2.0 in /opt/conda/lib/python3.10/site-packages (from sphinx->autowoe>=1.2->lightautoml) (2.2.0)\nRequirement already satisfied: babel>=2.9 in /opt/conda/lib/python3.10/site-packages (from sphinx->autowoe>=1.2->lightautoml) (2.14.0)\nCollecting alabaster<0.8,>=0.7 (from sphinx->autowoe>=1.2->lightautoml)\n  Downloading alabaster-0.7.16-py3-none-any.whl.metadata (2.9 kB)\nCollecting imagesize>=1.3 (from sphinx->autowoe>=1.2->lightautoml)\n  Downloading imagesize-1.4.1-py2.py3-none-any.whl.metadata (1.5 kB)\nRequirement already satisfied: requests>=2.25.0 in /opt/conda/lib/python3.10/site-packages (from sphinx->autowoe>=1.2->lightautoml) (2.31.0)\nRequirement already satisfied: mpmath>=0.19 in /opt/conda/lib/python3.10/site-packages (from sympy->torch<=2.0.0,>=1.9.0->lightautoml) (1.3.0)\nRequirement already satisfied: charset-normalizer<4,>=2 in /opt/conda/lib/python3.10/site-packages (from requests>=2.25.0->sphinx->autowoe>=1.2->lightautoml) (3.3.2)\nRequirement already satisfied: idna<4,>=2.5 in /opt/conda/lib/python3.10/site-packages (from requests>=2.25.0->sphinx->autowoe>=1.2->lightautoml) (3.6)\nRequirement already satisfied: urllib3<3,>=1.21.1 in /opt/conda/lib/python3.10/site-packages (from requests>=2.25.0->sphinx->autowoe>=1.2->lightautoml) (1.26.18)\nRequirement already satisfied: certifi>=2017.4.17 in /opt/conda/lib/python3.10/site-packages (from requests>=2.25.0->sphinx->autowoe>=1.2->lightautoml) (2024.2.2)\nDownloading lightautoml-0.3.8.1-py3-none-any.whl (416 kB)\n\u001b[2K   \u001b[90m━━━━━━━━━━━━━━━━━━━━━━━━━━━━━━━━━━━━━━━━\u001b[0m \u001b[32m416.4/416.4 kB\u001b[0m \u001b[31m15.7 MB/s\u001b[0m eta \u001b[36m0:00:00\u001b[0m\n\u001b[?25hDownloading AutoWoE-1.3.2-py3-none-any.whl (215 kB)\n\u001b[2K   \u001b[90m━━━━━━━━━━━━━━━━━━━━━━━━━━━━━━━━━━━━━━━━\u001b[0m \u001b[32m215.7/215.7 kB\u001b[0m \u001b[31m14.2 MB/s\u001b[0m eta \u001b[36m0:00:00\u001b[0m\n\u001b[?25hDownloading joblib-1.2.0-py3-none-any.whl (297 kB)\n\u001b[2K   \u001b[90m━━━━━━━━━━━━━━━━━━━━━━━━━━━━━━━━━━━━━━━━\u001b[0m \u001b[32m298.0/298.0 kB\u001b[0m \u001b[31m16.4 MB/s\u001b[0m eta \u001b[36m0:00:00\u001b[0m\n\u001b[?25hDownloading lightgbm-3.2.1-py3-none-manylinux1_x86_64.whl (2.0 MB)\n\u001b[2K   \u001b[90m━━━━━━━━━━━━━━━━━━━━━━━━━━━━━━━━━━━━━━━━\u001b[0m \u001b[32m2.0/2.0 MB\u001b[0m \u001b[31m48.7 MB/s\u001b[0m eta \u001b[36m0:00:00\u001b[0m00:01\u001b[0m\n\u001b[?25hDownloading pandas-1.5.3-cp310-cp310-manylinux_2_17_x86_64.manylinux2014_x86_64.whl (12.1 MB)\n\u001b[2K   \u001b[90m━━━━━━━━━━━━━━━━━━━━━━━━━━━━━━━━━━━━━━━━\u001b[0m \u001b[32m12.1/12.1 MB\u001b[0m \u001b[31m60.4 MB/s\u001b[0m eta \u001b[36m0:00:00\u001b[0m00:01\u001b[0m00:01\u001b[0m\n\u001b[?25hDownloading poetry_core-1.9.0-py3-none-any.whl (309 kB)\n\u001b[2K   \u001b[90m━━━━━━━━━━━━━━━━━━━━━━━━━━━━━━━━━━━━━━━━\u001b[0m \u001b[32m309.5/309.5 kB\u001b[0m \u001b[31m17.7 MB/s\u001b[0m eta \u001b[36m0:00:00\u001b[0m\n\u001b[?25hDownloading statsmodels-0.14.0-cp310-cp310-manylinux_2_17_x86_64.manylinux2014_x86_64.whl (10.1 MB)\n\u001b[2K   \u001b[90m━━━━━━━━━━━━━━━━━━━━━━━━━━━━━━━━━━━━━━━━\u001b[0m \u001b[32m10.1/10.1 MB\u001b[0m \u001b[31m8.4 MB/s\u001b[0m eta \u001b[36m0:00:00\u001b[0m00:01\u001b[0m0:01\u001b[0mmm\n\u001b[?25hDownloading torch-2.0.0-cp310-cp310-manylinux1_x86_64.whl (619.9 MB)\n\u001b[2K   \u001b[90m━━━━━━━━━━━━━━━━━━━━━━━━━━━━━━━━━━━━━━━━\u001b[0m \u001b[32m619.9/619.9 MB\u001b[0m \u001b[31m2.4 MB/s\u001b[0m eta \u001b[36m0:00:00\u001b[0m:00:01\u001b[0m00:01\u001b[0m\n\u001b[?25hDownloading nvidia_cublas_cu11-11.10.3.66-py3-none-manylinux1_x86_64.whl (317.1 MB)\n\u001b[2K   \u001b[90m━━━━━━━━━━━━━━━━━━━━━━━━━━━━━━━━━━━━━━━━\u001b[0m \u001b[32m317.1/317.1 MB\u001b[0m \u001b[31m4.6 MB/s\u001b[0m eta \u001b[36m0:00:00\u001b[0m:00:01\u001b[0m00:01\u001b[0m\n\u001b[?25hDownloading nvidia_cuda_cupti_cu11-11.7.101-py3-none-manylinux1_x86_64.whl (11.8 MB)\n\u001b[2K   \u001b[90m━━━━━━━━━━━━━━━━━━━━━━━━━━━━━━━━━━━━━━━━\u001b[0m \u001b[32m11.8/11.8 MB\u001b[0m \u001b[31m79.7 MB/s\u001b[0m eta \u001b[36m0:00:00\u001b[0m:00:01\u001b[0m00:01\u001b[0m\n\u001b[?25hDownloading nvidia_cuda_nvrtc_cu11-11.7.99-2-py3-none-manylinux1_x86_64.whl (21.0 MB)\n\u001b[2K   \u001b[90m━━━━━━━━━━━━━━━━━━━━━━━━━━━━━━━━━━━━━━━━\u001b[0m \u001b[32m21.0/21.0 MB\u001b[0m \u001b[31m62.5 MB/s\u001b[0m eta \u001b[36m0:00:00\u001b[0m:00:01\u001b[0m00:01\u001b[0m\n\u001b[?25hDownloading nvidia_cuda_runtime_cu11-11.7.99-py3-none-manylinux1_x86_64.whl (849 kB)\n\u001b[2K   \u001b[90m━━━━━━━━━━━━━━━━━━━━━━━━━━━━━━━━━━━━━━━━\u001b[0m \u001b[32m849.3/849.3 kB\u001b[0m \u001b[31m40.1 MB/s\u001b[0m eta \u001b[36m0:00:00\u001b[0m\n\u001b[?25hDownloading nvidia_cudnn_cu11-8.5.0.96-2-py3-none-manylinux1_x86_64.whl (557.1 MB)\n\u001b[2K   \u001b[90m━━━━━━━━━━━━━━━━━━━━━━━━━━━━━━━━━━━━━━━━\u001b[0m \u001b[32m557.1/557.1 MB\u001b[0m \u001b[31m2.1 MB/s\u001b[0m eta \u001b[36m0:00:00\u001b[0m:00:01\u001b[0m00:01\u001b[0m\n\u001b[?25hDownloading nvidia_cufft_cu11-10.9.0.58-py3-none-manylinux1_x86_64.whl (168.4 MB)\n\u001b[2K   \u001b[90m━━━━━━━━━━━━━━━━━━━━━━━━━━━━━━━━━━━━━━━━\u001b[0m \u001b[32m168.4/168.4 MB\u001b[0m \u001b[31m9.2 MB/s\u001b[0m eta \u001b[36m0:00:00\u001b[0m:00:01\u001b[0m00:01\u001b[0m\n\u001b[?25hDownloading nvidia_curand_cu11-10.2.10.91-py3-none-manylinux1_x86_64.whl (54.6 MB)\n\u001b[2K   \u001b[90m━━━━━━━━━━━━━━━━━━━━━━━━━━━━━━━━━━━━━━━━\u001b[0m \u001b[32m54.6/54.6 MB\u001b[0m \u001b[31m5.4 MB/s\u001b[0m eta \u001b[36m0:00:00\u001b[0m0:00:01\u001b[0m00:01\u001b[0m\n\u001b[?25hDownloading nvidia_cusolver_cu11-11.4.0.1-2-py3-none-manylinux1_x86_64.whl (102.6 MB)\n\u001b[2K   \u001b[90m━━━━━━━━━━━━━━━━━━━━━━━━━━━━━━━━━━━━━━━━\u001b[0m \u001b[32m102.6/102.6 MB\u001b[0m \u001b[31m3.0 MB/s\u001b[0m eta \u001b[36m0:00:00\u001b[0m:00:01\u001b[0m00:01\u001b[0m\n\u001b[?25hDownloading nvidia_cusparse_cu11-11.7.4.91-py3-none-manylinux1_x86_64.whl (173.2 MB)\n\u001b[2K   \u001b[90m━━━━━━━━━━━━━━━━━━━━━━━━━━━━━━━━━━━━━━━━\u001b[0m \u001b[32m173.2/173.2 MB\u001b[0m \u001b[31m4.2 MB/s\u001b[0m eta \u001b[36m0:00:00\u001b[0m:00:01\u001b[0m00:01\u001b[0m\n\u001b[?25hDownloading nvidia_nccl_cu11-2.14.3-py3-none-manylinux1_x86_64.whl (177.1 MB)\n\u001b[2K   \u001b[90m━━━━━━━━━━━━━━━━━━━━━━━━━━━━━━━━━━━━━━━━\u001b[0m \u001b[32m177.1/177.1 MB\u001b[0m \u001b[31m8.3 MB/s\u001b[0m eta \u001b[36m0:00:00\u001b[0m:00:01\u001b[0m00:01\u001b[0m\n\u001b[?25hDownloading nvidia_nvtx_cu11-11.7.91-py3-none-manylinux1_x86_64.whl (98 kB)\n\u001b[2K   \u001b[90m━━━━━━━━━━━━━━━━━━━━━━━━━━━━━━━━━━━━━━━━\u001b[0m \u001b[32m98.6/98.6 kB\u001b[0m \u001b[31m5.9 MB/s\u001b[0m eta \u001b[36m0:00:00\u001b[0m\n\u001b[?25hDownloading triton-2.0.0-1-cp310-cp310-manylinux2014_x86_64.manylinux_2_17_x86_64.whl (63.3 MB)\n\u001b[2K   \u001b[90m━━━━━━━━━━━━━━━━━━━━━━━━━━━━━━━━━━━━━━━━\u001b[0m \u001b[32m63.3/63.3 MB\u001b[0m \u001b[31m24.0 MB/s\u001b[0m eta \u001b[36m0:00:00\u001b[0m:00:01\u001b[0m00:01\u001b[0m\n\u001b[?25hDownloading cmaes-0.10.0-py3-none-any.whl (29 kB)\nDownloading StrEnum-0.4.15-py3-none-any.whl (8.9 kB)\nDownloading sphinx-7.2.6-py3-none-any.whl (3.2 MB)\n\u001b[2K   \u001b[90m━━━━━━━━━━━━━━━━━━━━━━━━━━━━━━━━━━━━━━━━\u001b[0m \u001b[32m3.2/3.2 MB\u001b[0m \u001b[31m60.3 MB/s\u001b[0m eta \u001b[36m0:00:00\u001b[0m:00:01\u001b[0m\n\u001b[?25hDownloading alabaster-0.7.16-py3-none-any.whl (13 kB)\nDownloading imagesize-1.4.1-py2.py3-none-any.whl (8.8 kB)\nDownloading sphinxcontrib_htmlhelp-2.0.5-py3-none-any.whl (99 kB)\n\u001b[2K   \u001b[90m━━━━━━━━━━━━━━━━━━━━━━━━━━━━━━━━━━━━━━━━\u001b[0m \u001b[32m99.2/99.2 kB\u001b[0m \u001b[31m5.6 MB/s\u001b[0m eta \u001b[36m0:00:00\u001b[0m\n\u001b[?25hDownloading sphinxcontrib_serializinghtml-1.1.10-py3-none-any.whl (92 kB)\n\u001b[2K   \u001b[90m━━━━━━━━━━━━━━━━━━━━━━━━━━━━━━━━━━━━━━━━\u001b[0m \u001b[32m92.7/92.7 kB\u001b[0m \u001b[31m5.3 MB/s\u001b[0m eta \u001b[36m0:00:00\u001b[0m\n\u001b[?25hDownloading cmake-3.29.0.1-py3-none-manylinux_2_17_x86_64.manylinux2014_x86_64.whl (26.6 MB)\n\u001b[2K   \u001b[90m━━━━━━━━━━━━━━━━━━━━━━━━━━━━━━━━━━━━━━━━\u001b[0m \u001b[32m26.6/26.6 MB\u001b[0m \u001b[31m54.0 MB/s\u001b[0m eta \u001b[36m0:00:00\u001b[0m:00:01\u001b[0m00:01\u001b[0m\n\u001b[?25hDownloading sphinxcontrib_applehelp-1.0.8-py3-none-any.whl (120 kB)\n\u001b[2K   \u001b[90m━━━━━━━━━━━━━━━━━━━━━━━━━━━━━━━━━━━━━━━━\u001b[0m \u001b[32m120.0/120.0 kB\u001b[0m \u001b[31m7.3 MB/s\u001b[0m eta \u001b[36m0:00:00\u001b[0m\n\u001b[?25hDownloading sphinxcontrib_devhelp-1.0.6-py3-none-any.whl (83 kB)\n\u001b[2K   \u001b[90m━━━━━━━━━━━━━━━━━━━━━━━━━━━━━━━━━━━━━━━━\u001b[0m \u001b[32m83.5/83.5 kB\u001b[0m \u001b[31m5.6 MB/s\u001b[0m eta \u001b[36m0:00:00\u001b[0m\n\u001b[?25hDownloading sphinxcontrib_jsmath-1.0.1-py2.py3-none-any.whl (5.1 kB)\nDownloading sphinxcontrib_qthelp-1.0.7-py3-none-any.whl (89 kB)\n\u001b[2K   \u001b[90m━━━━━━━━━━━━━━━━━━━━━━━━━━━━━━━━━━━━━━━━\u001b[0m \u001b[32m89.4/89.4 kB\u001b[0m \u001b[31m5.3 MB/s\u001b[0m eta \u001b[36m0:00:00\u001b[0m\n\u001b[?25hBuilding wheels for collected packages: json2html, lit\n  Building wheel for json2html (setup.py) ... \u001b[?25ldone\n\u001b[?25h  Created wheel for json2html: filename=json2html-1.3.0-py3-none-any.whl size=7593 sha256=ff3192e9e6021bb28525996a154d8a88943f6488d42e4d65c0f0160c31178ef4\n  Stored in directory: /root/.cache/pip/wheels/e0/d8/b3/6f83a04ab0ec00e691de794d108286bb0f8bcdf4ade19afb57\n  Building wheel for lit (pyproject.toml) ... \u001b[?25ldone\n\u001b[?25h  Created wheel for lit: filename=lit-18.1.2-py3-none-any.whl size=96368 sha256=b99eecbf6221c2fc63c928d1308f58ba7a7459ce67c5100e925379df4e036f69\n  Stored in directory: /root/.cache/pip/wheels/f4/4d/9c/3e28d23c2c6fc6a9bd89c91a7b7ff775fc71a41ac9a52563e9\nSuccessfully built json2html lit\nInstalling collected packages: StrEnum, lit, json2html, sphinxcontrib-serializinghtml, sphinxcontrib-qthelp, sphinxcontrib-jsmath, sphinxcontrib-htmlhelp, sphinxcontrib-devhelp, sphinxcontrib-applehelp, poetry-core, nvidia-nvtx-cu11, nvidia-nccl-cu11, nvidia-cusparse-cu11, nvidia-curand-cu11, nvidia-cufft-cu11, nvidia-cuda-runtime-cu11, nvidia-cuda-nvrtc-cu11, nvidia-cuda-cupti-cu11, nvidia-cublas-cu11, joblib, imagesize, cmake, cmaes, alabaster, sphinx, pandas, nvidia-cusolver-cu11, nvidia-cudnn-cu11, statsmodels, lightgbm, autowoe, triton, torch, lightautoml\n  Attempting uninstall: joblib\n    Found existing installation: joblib 1.3.2\n    Uninstalling joblib-1.3.2:\n      Successfully uninstalled joblib-1.3.2\n  Attempting uninstall: pandas\n    Found existing installation: pandas 2.2.1\n    Uninstalling pandas-2.2.1:\n      Successfully uninstalled pandas-2.2.1\n  Attempting uninstall: statsmodels\n    Found existing installation: statsmodels 0.14.1\n    Uninstalling statsmodels-0.14.1:\n      Successfully uninstalled statsmodels-0.14.1\n  Attempting uninstall: lightgbm\n    Found existing installation: lightgbm 4.2.0\n    Uninstalling lightgbm-4.2.0:\n      Successfully uninstalled lightgbm-4.2.0\n  Attempting uninstall: torch\n    Found existing installation: torch 2.1.2+cpu\n    Uninstalling torch-2.1.2+cpu:\n      Successfully uninstalled torch-2.1.2+cpu\n\u001b[31mERROR: pip's dependency resolver does not currently take into account all the packages that are installed. This behaviour is the source of the following dependency conflicts.\ntensorflow-decision-forests 1.8.1 requires wurlitzer, which is not installed.\nbeatrix-jupyterlab 2023.128.151533 requires jupyterlab~=3.6.0, but you have jupyterlab 4.1.5 which is incompatible.\ndask-expr 1.0.4 requires pandas>=2, but you have pandas 1.5.3 which is incompatible.\nfeaturetools 1.30.0 requires pandas>=2.0.0, but you have pandas 1.5.3 which is incompatible.\nfitter 1.7.0 requires joblib<2.0.0,>=1.3.1, but you have joblib 1.2.0 which is incompatible.\nlibpysal 4.9.2 requires packaging>=22, but you have packaging 21.3 which is incompatible.\nlibpysal 4.9.2 requires shapely>=2.0.1, but you have shapely 1.8.5.post1 which is incompatible.\nmizani 0.11.0 requires pandas>=2.1.0, but you have pandas 1.5.3 which is incompatible.\nmomepy 0.7.0 requires shapely>=2, but you have shapely 1.8.5.post1 which is incompatible.\nosmnx 1.9.1 requires shapely>=2.0, but you have shapely 1.8.5.post1 which is incompatible.\nplotnine 0.13.2 requires pandas<3.0.0,>=2.1.0, but you have pandas 1.5.3 which is incompatible.\npyldavis 3.4.1 requires pandas>=2.0.0, but you have pandas 1.5.3 which is incompatible.\nspopt 0.6.0 requires shapely>=2.0.1, but you have shapely 1.8.5.post1 which is incompatible.\ntorchaudio 2.1.2+cpu requires torch==2.1.2, but you have torch 2.0.0 which is incompatible.\ntorchtext 0.16.2+cpu requires torch==2.1.2, but you have torch 2.0.0 which is incompatible.\ntorchvision 0.16.2+cpu requires torch==2.1.2, but you have torch 2.0.0 which is incompatible.\nxarray 2024.2.0 requires packaging>=22, but you have packaging 21.3 which is incompatible.\nydata-profiling 4.6.4 requires numpy<1.26,>=1.16.0, but you have numpy 1.26.4 which is incompatible.\u001b[0m\u001b[31m\n\u001b[0mSuccessfully installed StrEnum-0.4.15 alabaster-0.7.16 autowoe-1.3.2 cmaes-0.10.0 cmake-3.29.0.1 imagesize-1.4.1 joblib-1.2.0 json2html-1.3.0 lightautoml-0.3.8.1 lightgbm-3.2.1 lit-18.1.2 nvidia-cublas-cu11-11.10.3.66 nvidia-cuda-cupti-cu11-11.7.101 nvidia-cuda-nvrtc-cu11-11.7.99 nvidia-cuda-runtime-cu11-11.7.99 nvidia-cudnn-cu11-8.5.0.96 nvidia-cufft-cu11-10.9.0.58 nvidia-curand-cu11-10.2.10.91 nvidia-cusolver-cu11-11.4.0.1 nvidia-cusparse-cu11-11.7.4.91 nvidia-nccl-cu11-2.14.3 nvidia-nvtx-cu11-11.7.91 pandas-1.5.3 poetry-core-1.9.0 sphinx-7.2.6 sphinxcontrib-applehelp-1.0.8 sphinxcontrib-devhelp-1.0.6 sphinxcontrib-htmlhelp-2.0.5 sphinxcontrib-jsmath-1.0.1 sphinxcontrib-qthelp-1.0.7 sphinxcontrib-serializinghtml-1.1.10 statsmodels-0.14.0 torch-2.0.0 triton-2.0.0\n",
          "output_type": "stream"
        }
      ]
    },
    {
      "cell_type": "code",
      "source": [
        "# Standard python libraries\n",
        "import os\n",
        "import requests\n",
        "\n",
        "# Essential DS libraries\n",
        "import numpy as np\n",
        "import pandas as pd\n",
        "from sklearn.metrics import roc_auc_score\n",
        "from sklearn.model_selection import train_test_split\n",
        "import torch\n",
        "\n",
        "# LightAutoML presets, task and report generation\n",
        "from lightautoml.automl.presets.tabular_presets import TabularAutoML, TabularUtilizedAutoML\n",
        "from lightautoml.tasks import Task\n",
        "from lightautoml.report.report_deco import ReportDeco"
      ],
      "metadata": {
        "execution": {
          "iopub.status.busy": "2024-03-29T13:48:42.933139Z",
          "iopub.execute_input": "2024-03-29T13:48:42.934012Z",
          "iopub.status.idle": "2024-03-29T13:48:42.952336Z",
          "shell.execute_reply.started": "2024-03-29T13:48:42.933977Z",
          "shell.execute_reply": "2024-03-29T13:48:42.951397Z"
        },
        "trusted": true,
        "id": "LYY2bOE8uKc-"
      },
      "execution_count": null,
      "outputs": []
    },
    {
      "cell_type": "code",
      "source": [
        "N_THREADS = 4\n",
        "N_FOLDS = 5\n",
        "RANDOM_STATE = 42\n",
        "TEST_SIZE = 0.2\n",
        "TIMEOUT = 300\n",
        "TARGET_NAME = '1'"
      ],
      "metadata": {
        "execution": {
          "iopub.status.busy": "2024-03-29T13:52:23.406938Z",
          "iopub.execute_input": "2024-03-29T13:52:23.408048Z",
          "iopub.status.idle": "2024-03-29T13:52:23.412697Z",
          "shell.execute_reply.started": "2024-03-29T13:52:23.408012Z",
          "shell.execute_reply": "2024-03-29T13:52:23.411737Z"
        },
        "trusted": true,
        "id": "wyWw9a_QuKc-"
      },
      "execution_count": null,
      "outputs": []
    },
    {
      "cell_type": "code",
      "source": [
        "np.random.seed(RANDOM_STATE)\n",
        "torch.set_num_threads(N_THREADS)"
      ],
      "metadata": {
        "execution": {
          "iopub.status.busy": "2024-03-29T13:49:25.697703Z",
          "iopub.execute_input": "2024-03-29T13:49:25.698388Z",
          "iopub.status.idle": "2024-03-29T13:49:25.70925Z",
          "shell.execute_reply.started": "2024-03-29T13:49:25.698352Z",
          "shell.execute_reply": "2024-03-29T13:49:25.708298Z"
        },
        "trusted": true,
        "id": "6sb8L6fNuKc-"
      },
      "execution_count": null,
      "outputs": []
    },
    {
      "cell_type": "code",
      "source": [
        "df = pd.read_csv('/kaggle/input/dota2-first/matches.csv')"
      ],
      "metadata": {
        "execution": {
          "iopub.status.busy": "2024-03-29T13:51:34.193427Z",
          "iopub.execute_input": "2024-03-29T13:51:34.193817Z",
          "iopub.status.idle": "2024-03-29T13:51:34.349169Z",
          "shell.execute_reply.started": "2024-03-29T13:51:34.193788Z",
          "shell.execute_reply": "2024-03-29T13:51:34.348195Z"
        },
        "trusted": true,
        "id": "IQQHwAGluKc_"
      },
      "execution_count": null,
      "outputs": []
    },
    {
      "cell_type": "code",
      "source": [
        "df.head()"
      ],
      "metadata": {
        "execution": {
          "iopub.status.busy": "2024-03-29T13:51:35.682705Z",
          "iopub.execute_input": "2024-03-29T13:51:35.683074Z",
          "iopub.status.idle": "2024-03-29T13:51:35.711453Z",
          "shell.execute_reply.started": "2024-03-29T13:51:35.683046Z",
          "shell.execute_reply": "2024-03-29T13:51:35.710387Z"
        },
        "trusted": true,
        "id": "AcdNENxuuKc_",
        "outputId": "dff1a8cb-ef12-4fe1-d0bf-576f3d7577b8"
      },
      "execution_count": null,
      "outputs": [
        {
          "execution_count": 16,
          "output_type": "execute_result",
          "data": {
            "text/plain": "   Unnamed: 0         0  1     2      3                 4             5  \\\n0           0  408160.1  1  2589  7.32e  Infinity Esports  Lava Esports   \n1           1  408160.0  0  2808  7.32e  Infinity Esports  Lava Esports   \n2           2  408161.1  0  2414  7.32e  Infinity Esports       noMERCY   \n3           3  408161.0  0  2130  7.32e  Infinity Esports       noMERCY   \n4           4  408162.1  1  3152  7.32e  Infinity Esports    Keyd Stars   \n\n          6         7           8  ...    71    72    73    74    75    76  \\\n0    Smoker     Lumpy      hermit  ...  0.69 -1.11  0.11  1.01 -0.61  0.73   \n1      Kiri  Leostyle       Frank  ...  0.69 -0.77 -1.18  1.56 -0.58 -0.62   \n2   Michael  Mr.Jeans    YadomiJN  ... -0.94 -0.49  0.71 -0.65 -1.25  2.85   \n3  Mr.Jeans   elmisho  Tiburoncin  ...  0.52 -0.37  0.28 -1.27 -0.13  1.14   \n4       fcr    4nalog   Costabile  ...  1.07 -0.40 -0.97  0.74  1.01 -0.06   \n\n     77    78    79    80  \n0 -1.43  0.33  1.36 -0.03  \n1  2.66 -0.80 -3.40 -0.03  \n2 -0.89 -0.47 -0.15 -1.36  \n3  1.03  0.95 -0.09  1.25  \n4 -0.10  0.23 -0.41  1.53  \n\n[5 rows x 82 columns]",
            "text/html": "<div>\n<style scoped>\n    .dataframe tbody tr th:only-of-type {\n        vertical-align: middle;\n    }\n\n    .dataframe tbody tr th {\n        vertical-align: top;\n    }\n\n    .dataframe thead th {\n        text-align: right;\n    }\n</style>\n<table border=\"1\" class=\"dataframe\">\n  <thead>\n    <tr style=\"text-align: right;\">\n      <th></th>\n      <th>Unnamed: 0</th>\n      <th>0</th>\n      <th>1</th>\n      <th>2</th>\n      <th>3</th>\n      <th>4</th>\n      <th>5</th>\n      <th>6</th>\n      <th>7</th>\n      <th>8</th>\n      <th>...</th>\n      <th>71</th>\n      <th>72</th>\n      <th>73</th>\n      <th>74</th>\n      <th>75</th>\n      <th>76</th>\n      <th>77</th>\n      <th>78</th>\n      <th>79</th>\n      <th>80</th>\n    </tr>\n  </thead>\n  <tbody>\n    <tr>\n      <th>0</th>\n      <td>0</td>\n      <td>408160.1</td>\n      <td>1</td>\n      <td>2589</td>\n      <td>7.32e</td>\n      <td>Infinity Esports</td>\n      <td>Lava Esports</td>\n      <td>Smoker</td>\n      <td>Lumpy</td>\n      <td>hermit</td>\n      <td>...</td>\n      <td>0.69</td>\n      <td>-1.11</td>\n      <td>0.11</td>\n      <td>1.01</td>\n      <td>-0.61</td>\n      <td>0.73</td>\n      <td>-1.43</td>\n      <td>0.33</td>\n      <td>1.36</td>\n      <td>-0.03</td>\n    </tr>\n    <tr>\n      <th>1</th>\n      <td>1</td>\n      <td>408160.0</td>\n      <td>0</td>\n      <td>2808</td>\n      <td>7.32e</td>\n      <td>Infinity Esports</td>\n      <td>Lava Esports</td>\n      <td>Kiri</td>\n      <td>Leostyle</td>\n      <td>Frank</td>\n      <td>...</td>\n      <td>0.69</td>\n      <td>-0.77</td>\n      <td>-1.18</td>\n      <td>1.56</td>\n      <td>-0.58</td>\n      <td>-0.62</td>\n      <td>2.66</td>\n      <td>-0.80</td>\n      <td>-3.40</td>\n      <td>-0.03</td>\n    </tr>\n    <tr>\n      <th>2</th>\n      <td>2</td>\n      <td>408161.1</td>\n      <td>0</td>\n      <td>2414</td>\n      <td>7.32e</td>\n      <td>Infinity Esports</td>\n      <td>noMERCY</td>\n      <td>Michael</td>\n      <td>Mr.Jeans</td>\n      <td>YadomiJN</td>\n      <td>...</td>\n      <td>-0.94</td>\n      <td>-0.49</td>\n      <td>0.71</td>\n      <td>-0.65</td>\n      <td>-1.25</td>\n      <td>2.85</td>\n      <td>-0.89</td>\n      <td>-0.47</td>\n      <td>-0.15</td>\n      <td>-1.36</td>\n    </tr>\n    <tr>\n      <th>3</th>\n      <td>3</td>\n      <td>408161.0</td>\n      <td>0</td>\n      <td>2130</td>\n      <td>7.32e</td>\n      <td>Infinity Esports</td>\n      <td>noMERCY</td>\n      <td>Mr.Jeans</td>\n      <td>elmisho</td>\n      <td>Tiburoncin</td>\n      <td>...</td>\n      <td>0.52</td>\n      <td>-0.37</td>\n      <td>0.28</td>\n      <td>-1.27</td>\n      <td>-0.13</td>\n      <td>1.14</td>\n      <td>1.03</td>\n      <td>0.95</td>\n      <td>-0.09</td>\n      <td>1.25</td>\n    </tr>\n    <tr>\n      <th>4</th>\n      <td>4</td>\n      <td>408162.1</td>\n      <td>1</td>\n      <td>3152</td>\n      <td>7.32e</td>\n      <td>Infinity Esports</td>\n      <td>Keyd Stars</td>\n      <td>fcr</td>\n      <td>4nalog</td>\n      <td>Costabile</td>\n      <td>...</td>\n      <td>1.07</td>\n      <td>-0.40</td>\n      <td>-0.97</td>\n      <td>0.74</td>\n      <td>1.01</td>\n      <td>-0.06</td>\n      <td>-0.10</td>\n      <td>0.23</td>\n      <td>-0.41</td>\n      <td>1.53</td>\n    </tr>\n  </tbody>\n</table>\n<p>5 rows × 82 columns</p>\n</div>"
          },
          "metadata": {}
        }
      ]
    },
    {
      "cell_type": "code",
      "source": [
        "df = df.drop(columns=['Unnamed: 0', '0'], axis=1)"
      ],
      "metadata": {
        "execution": {
          "iopub.status.busy": "2024-03-29T13:51:38.871651Z",
          "iopub.execute_input": "2024-03-29T13:51:38.872577Z",
          "iopub.status.idle": "2024-03-29T13:51:38.881426Z",
          "shell.execute_reply.started": "2024-03-29T13:51:38.872533Z",
          "shell.execute_reply": "2024-03-29T13:51:38.88029Z"
        },
        "trusted": true,
        "id": "u63XvbRTuKc_"
      },
      "execution_count": null,
      "outputs": []
    },
    {
      "cell_type": "code",
      "source": [
        "train_data, test_data = train_test_split(\n",
        "    df,\n",
        "    test_size=TEST_SIZE,\n",
        "    stratify=df[TARGET_NAME],\n",
        "    random_state=RANDOM_STATE\n",
        ")"
      ],
      "metadata": {
        "execution": {
          "iopub.status.busy": "2024-03-29T13:52:39.640554Z",
          "iopub.execute_input": "2024-03-29T13:52:39.641559Z",
          "iopub.status.idle": "2024-03-29T13:52:39.659217Z",
          "shell.execute_reply.started": "2024-03-29T13:52:39.641516Z",
          "shell.execute_reply": "2024-03-29T13:52:39.658028Z"
        },
        "trusted": true,
        "id": "-_SChzBnuKc_"
      },
      "execution_count": null,
      "outputs": []
    },
    {
      "cell_type": "code",
      "source": [
        "roles = {\n",
        "    'target': TARGET_NAME,\n",
        "}"
      ],
      "metadata": {
        "execution": {
          "iopub.status.busy": "2024-03-29T13:52:41.520235Z",
          "iopub.execute_input": "2024-03-29T13:52:41.521388Z",
          "iopub.status.idle": "2024-03-29T13:52:41.526091Z",
          "shell.execute_reply.started": "2024-03-29T13:52:41.521317Z",
          "shell.execute_reply": "2024-03-29T13:52:41.525189Z"
        },
        "trusted": true,
        "id": "PPEPGJvLuKc_"
      },
      "execution_count": null,
      "outputs": []
    },
    {
      "cell_type": "code",
      "source": [
        "task = Task('binary')"
      ],
      "metadata": {
        "execution": {
          "iopub.status.busy": "2024-03-29T13:53:30.661646Z",
          "iopub.execute_input": "2024-03-29T13:53:30.662319Z",
          "iopub.status.idle": "2024-03-29T13:53:30.674474Z",
          "shell.execute_reply.started": "2024-03-29T13:53:30.662279Z",
          "shell.execute_reply": "2024-03-29T13:53:30.673604Z"
        },
        "trusted": true,
        "id": "167Szt_TuKc_"
      },
      "execution_count": null,
      "outputs": []
    },
    {
      "cell_type": "code",
      "source": [
        "automl = TabularAutoML(\n",
        "    task = task,\n",
        "    timeout = TIMEOUT,\n",
        "    cpu_limit = N_THREADS,\n",
        "    reader_params = {'n_jobs': N_THREADS, 'cv': N_FOLDS, 'random_state': RANDOM_STATE},\n",
        ")"
      ],
      "metadata": {
        "execution": {
          "iopub.status.busy": "2024-03-29T13:53:33.150544Z",
          "iopub.execute_input": "2024-03-29T13:53:33.151374Z",
          "iopub.status.idle": "2024-03-29T13:53:33.201728Z",
          "shell.execute_reply.started": "2024-03-29T13:53:33.15132Z",
          "shell.execute_reply": "2024-03-29T13:53:33.200527Z"
        },
        "trusted": true,
        "id": "dhyr3q46uKdA"
      },
      "execution_count": null,
      "outputs": []
    },
    {
      "cell_type": "code",
      "source": [
        "out_of_fold_predictions = automl.fit_predict(train_data, roles = roles, verbose = 1)"
      ],
      "metadata": {
        "execution": {
          "iopub.status.busy": "2024-03-29T13:54:08.250143Z",
          "iopub.execute_input": "2024-03-29T13:54:08.250591Z",
          "iopub.status.idle": "2024-03-29T13:57:56.944819Z",
          "shell.execute_reply.started": "2024-03-29T13:54:08.250559Z",
          "shell.execute_reply": "2024-03-29T13:57:56.943656Z"
        },
        "trusted": true,
        "id": "MR_hfgRauKdA",
        "outputId": "71c0fb51-d995-40a0-894d-149b3a8bb7f8"
      },
      "execution_count": null,
      "outputs": [
        {
          "name": "stdout",
          "text": "[13:54:08] Stdout logging level is INFO.\n[13:54:08] Copying TaskTimer may affect the parent PipelineTimer, so copy will create new unlimited TaskTimer\n[13:54:08] Task: binary\n\n[13:54:08] Start automl preset with listed constraints:\n[13:54:08] - time: 300.00 seconds\n[13:54:08] - CPU: 4 cores\n[13:54:08] - memory: 16 GB\n\n[13:54:08] \u001b[1mTrain data shape: (5737, 80)\u001b[0m\n\n",
          "output_type": "stream"
        },
        {
          "name": "stderr",
          "text": "/opt/conda/lib/python3.10/site-packages/joblib/externals/loky/backend/fork_exec.py:37: RuntimeWarning: os.fork() was called. os.fork() is incompatible with multithreaded code, and JAX is multithreaded, so this will likely lead to a deadlock.\n  pid = os.fork()\n",
          "output_type": "stream"
        },
        {
          "name": "stdout",
          "text": "[13:54:16] Layer \u001b[1m1\u001b[0m train process start. Time left 291.91 secs\n[13:54:17] Start fitting \u001b[1mLvl_0_Pipe_0_Mod_0_LinearL2\u001b[0m ...\n[13:54:18] Fitting \u001b[1mLvl_0_Pipe_0_Mod_0_LinearL2\u001b[0m finished. score = \u001b[1m0.6557128299281794\u001b[0m\n[13:54:18] \u001b[1mLvl_0_Pipe_0_Mod_0_LinearL2\u001b[0m fitting and predicting completed\n[13:54:18] Time left 289.73 secs\n\n[13:54:25] \u001b[1mSelector_LightGBM\u001b[0m fitting and predicting completed\n[13:54:26] Start fitting \u001b[1mLvl_0_Pipe_1_Mod_0_LightGBM\u001b[0m ...\n[13:54:46] Fitting \u001b[1mLvl_0_Pipe_1_Mod_0_LightGBM\u001b[0m finished. score = \u001b[1m0.668505380755899\u001b[0m\n[13:54:46] \u001b[1mLvl_0_Pipe_1_Mod_0_LightGBM\u001b[0m fitting and predicting completed\n[13:54:46] Start hyperparameters optimization for \u001b[1mLvl_0_Pipe_1_Mod_1_Tuned_LightGBM\u001b[0m ... Time budget is 1.00 secs\n[13:54:56] Hyperparameters optimization for \u001b[1mLvl_0_Pipe_1_Mod_1_Tuned_LightGBM\u001b[0m completed\n[13:54:56] Start fitting \u001b[1mLvl_0_Pipe_1_Mod_1_Tuned_LightGBM\u001b[0m ...\n[13:55:20] Fitting \u001b[1mLvl_0_Pipe_1_Mod_1_Tuned_LightGBM\u001b[0m finished. score = \u001b[1m0.6594358333140562\u001b[0m\n[13:55:20] \u001b[1mLvl_0_Pipe_1_Mod_1_Tuned_LightGBM\u001b[0m fitting and predicting completed\n[13:55:20] Start fitting \u001b[1mLvl_0_Pipe_1_Mod_2_CatBoost\u001b[0m ...\n[13:55:28] Fitting \u001b[1mLvl_0_Pipe_1_Mod_2_CatBoost\u001b[0m finished. score = \u001b[1m0.6605016357157031\u001b[0m\n[13:55:28] \u001b[1mLvl_0_Pipe_1_Mod_2_CatBoost\u001b[0m fitting and predicting completed\n[13:55:28] Start hyperparameters optimization for \u001b[1mLvl_0_Pipe_1_Mod_3_Tuned_CatBoost\u001b[0m ... Time budget is 132.30 secs\n[13:57:43] Hyperparameters optimization for \u001b[1mLvl_0_Pipe_1_Mod_3_Tuned_CatBoost\u001b[0m completed\n[13:57:43] Start fitting \u001b[1mLvl_0_Pipe_1_Mod_3_Tuned_CatBoost\u001b[0m ...\n[13:57:56] Fitting \u001b[1mLvl_0_Pipe_1_Mod_3_Tuned_CatBoost\u001b[0m finished. score = \u001b[1m0.6590409361139486\u001b[0m\n[13:57:56] \u001b[1mLvl_0_Pipe_1_Mod_3_Tuned_CatBoost\u001b[0m fitting and predicting completed\n[13:57:56] Time left 72.00 secs\n\n[13:57:56] \u001b[1mLayer 1 training completed.\u001b[0m\n\n[13:57:56] Blending: optimization starts with equal weights and score \u001b[1m0.6748373719947451\u001b[0m\n[13:57:56] Blending: iteration \u001b[1m0\u001b[0m: score = \u001b[1m0.6760525620531002\u001b[0m, weights = \u001b[1m[0.26852784 0.37377453 0.09098155 0.13785844 0.12885763]\u001b[0m\n[13:57:56] Blending: iteration \u001b[1m1\u001b[0m: score = \u001b[1m0.6761457619318368\u001b[0m, weights = \u001b[1m[0.32729703 0.33955482 0.09016994 0.12558897 0.11738925]\u001b[0m\n[13:57:56] Blending: iteration \u001b[1m2\u001b[0m: score = \u001b[1m0.6761500231934381\u001b[0m, weights = \u001b[1m[0.32796925 0.34855416 0.09117792 0.12584691 0.10645181]\u001b[0m\n[13:57:56] Blending: iteration \u001b[1m3\u001b[0m: score = \u001b[1m0.6761563542106743\u001b[0m, weights = \u001b[1m[0.33573744 0.3445251  0.09012396 0.12439219 0.10522129]\u001b[0m\n[13:57:56] Blending: iteration \u001b[1m4\u001b[0m: score = \u001b[1m0.6761563542106743\u001b[0m, weights = \u001b[1m[0.33573744 0.3445251  0.09012396 0.12439219 0.10522129]\u001b[0m\n[13:57:56] Blending: no score update. Terminated\n\n[13:57:56] \u001b[1mAutoml preset training completed in 228.68 seconds\u001b[0m\n\n[13:57:56] Model description:\nFinal prediction for new objects (level 0) = \n\t 0.33574 * (5 averaged models Lvl_0_Pipe_0_Mod_0_LinearL2) +\n\t 0.34453 * (5 averaged models Lvl_0_Pipe_1_Mod_0_LightGBM) +\n\t 0.09012 * (5 averaged models Lvl_0_Pipe_1_Mod_1_Tuned_LightGBM) +\n\t 0.12439 * (5 averaged models Lvl_0_Pipe_1_Mod_2_CatBoost) +\n\t 0.10522 * (5 averaged models Lvl_0_Pipe_1_Mod_3_Tuned_CatBoost) \n\n",
          "output_type": "stream"
        }
      ]
    },
    {
      "cell_type": "code",
      "source": [
        "%%time\n",
        "\n",
        "test_predictions = automl.predict(test_data)\n",
        "print(f'Prediction for test_data:\\n{test_predictions}\\nShape = {test_predictions.shape}')"
      ],
      "metadata": {
        "execution": {
          "iopub.status.busy": "2024-03-29T13:58:52.989485Z",
          "iopub.execute_input": "2024-03-29T13:58:52.990471Z",
          "iopub.status.idle": "2024-03-29T13:58:53.831191Z",
          "shell.execute_reply.started": "2024-03-29T13:58:52.990429Z",
          "shell.execute_reply": "2024-03-29T13:58:53.830106Z"
        },
        "trusted": true,
        "id": "VDUJTQsFuKdA",
        "outputId": "98df6235-26de-40b8-e23a-3560fe5ba04d"
      },
      "execution_count": null,
      "outputs": [
        {
          "name": "stdout",
          "text": "Prediction for test_data:\narray([[0.4220273 ],\n       [0.6604965 ],\n       [0.53309584],\n       ...,\n       [0.57693666],\n       [0.3599443 ],\n       [0.43167877]], dtype=float32)\nShape = (1435, 1)\nCPU times: user 1.54 s, sys: 3.84 ms, total: 1.54 s\nWall time: 835 ms\n",
          "output_type": "stream"
        }
      ]
    },
    {
      "cell_type": "code",
      "source": [
        "test_predictions"
      ],
      "metadata": {
        "execution": {
          "iopub.status.busy": "2024-03-29T14:05:24.638385Z",
          "iopub.execute_input": "2024-03-29T14:05:24.638743Z",
          "iopub.status.idle": "2024-03-29T14:05:24.645774Z",
          "shell.execute_reply.started": "2024-03-29T14:05:24.638716Z",
          "shell.execute_reply": "2024-03-29T14:05:24.644367Z"
        },
        "trusted": true,
        "id": "GCSm0cPFuKdA",
        "outputId": "f81f1a86-2643-438d-e594-fb6a68cc87a7"
      },
      "execution_count": null,
      "outputs": [
        {
          "execution_count": 32,
          "output_type": "execute_result",
          "data": {
            "text/plain": "array([[0.4220273 ],\n       [0.6604965 ],\n       [0.53309584],\n       ...,\n       [0.57693666],\n       [0.3599443 ],\n       [0.43167877]], dtype=float32)"
          },
          "metadata": {}
        }
      ]
    },
    {
      "cell_type": "code",
      "source": [
        "predictions_oof_array = out_of_fold_predictions.data\n",
        "predictions_test_array = test_predictions.data\n",
        "\n",
        "# Создание массива с таргетами 0 или 1\n",
        "targets_oof = np.array((predictions_oof_array > 0.5).astype(int))\n",
        "targets_test = np.array((predictions_test_array > 0.5).astype(int))"
      ],
      "metadata": {
        "execution": {
          "iopub.status.busy": "2024-03-29T14:16:21.975173Z",
          "iopub.execute_input": "2024-03-29T14:16:21.975607Z",
          "iopub.status.idle": "2024-03-29T14:16:21.982519Z",
          "shell.execute_reply.started": "2024-03-29T14:16:21.97558Z",
          "shell.execute_reply": "2024-03-29T14:16:21.981343Z"
        },
        "trusted": true,
        "id": "Szto5Cj9uKdA"
      },
      "execution_count": null,
      "outputs": []
    },
    {
      "cell_type": "code",
      "source": [
        "targets_oof = targets_oof.flatten()\n",
        "targets_test = targets_test.flatten()"
      ],
      "metadata": {
        "execution": {
          "iopub.status.busy": "2024-03-29T14:55:14.915574Z",
          "iopub.execute_input": "2024-03-29T14:55:14.916015Z",
          "iopub.status.idle": "2024-03-29T14:55:14.921767Z",
          "shell.execute_reply.started": "2024-03-29T14:55:14.915983Z",
          "shell.execute_reply": "2024-03-29T14:55:14.920483Z"
        },
        "trusted": true,
        "id": "RWABNbTBuKdA"
      },
      "execution_count": null,
      "outputs": []
    },
    {
      "cell_type": "code",
      "source": [
        "print(f'OOF score: {roc_auc_score(train_data[TARGET_NAME].values, out_of_fold_predictions.data[:, 0])}')\n",
        "print(f'HOLDOUT score: {roc_auc_score(test_data[TARGET_NAME].values, test_predictions.data[:, 0])}')"
      ],
      "metadata": {
        "execution": {
          "iopub.status.busy": "2024-03-29T13:59:21.605088Z",
          "iopub.execute_input": "2024-03-29T13:59:21.605557Z",
          "iopub.status.idle": "2024-03-29T13:59:21.620187Z",
          "shell.execute_reply.started": "2024-03-29T13:59:21.60551Z",
          "shell.execute_reply": "2024-03-29T13:59:21.61905Z"
        },
        "trusted": true,
        "id": "cL2MUPOMuKdA",
        "outputId": "2d97a8cb-1a6f-4c80-ed6e-579b59a34e38"
      },
      "execution_count": null,
      "outputs": [
        {
          "name": "stdout",
          "text": "OOF score: 0.6761563542106743\nHOLDOUT score: 0.6322245055227331\n",
          "output_type": "stream"
        }
      ]
    },
    {
      "cell_type": "code",
      "source": [
        "print(f'OOF score: {accuracy_score(train_data[TARGET_NAME].values, targets_oof)}')\n",
        "print(f'HOLDOUT score: {accuracy_score(test_data[TARGET_NAME].values, targets_test)}')"
      ],
      "metadata": {
        "execution": {
          "iopub.status.busy": "2024-03-29T14:55:36.488503Z",
          "iopub.execute_input": "2024-03-29T14:55:36.488859Z",
          "iopub.status.idle": "2024-03-29T14:55:36.498792Z",
          "shell.execute_reply.started": "2024-03-29T14:55:36.488834Z",
          "shell.execute_reply": "2024-03-29T14:55:36.497772Z"
        },
        "trusted": true,
        "id": "Ulx4AL3auKdB",
        "outputId": "b23d2384-34c1-4825-8e63-012c74a8f050"
      },
      "execution_count": null,
      "outputs": [
        {
          "name": "stdout",
          "text": "OOF score: 0.6301202719191215\nHOLDOUT score: 0.5902439024390244\n",
          "output_type": "stream"
        }
      ]
    }
  ]
}